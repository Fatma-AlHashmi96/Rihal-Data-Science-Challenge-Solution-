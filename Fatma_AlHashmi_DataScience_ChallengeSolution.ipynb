{
  "cells": [
    {
      "cell_type": "markdown",
      "metadata": {
        "id": "SgsDNyJpBlb_"
      },
      "source": [
        "# Rihal Data Science Challenge\n",
        "\n",
        "You are allowed to use any method in reading, loading, transforming the data. Additionally, you can use any model to predict the price of used cars.\n",
        "\n",
        "**Make sure** you explain your approach at each step, and to evaluate your model. Finally, you must show the Mean Asbolute Error from your model's predictions when compared with the test dataset's prices.\n",
        "\n",
        "---------------------------"
      ],
      "id": "SgsDNyJpBlb_"
    },
    {
      "cell_type": "markdown",
      "metadata": {
        "id": "C3sXG1HgBlcC"
      },
      "source": [
        "## Imports"
      ],
      "id": "C3sXG1HgBlcC"
    },
    {
      "cell_type": "code",
      "execution_count": 11,
      "metadata": {
        "id": "S1ixihv-BlcC"
      },
      "outputs": [],
      "source": [
        "import pandas as pd\n",
        "import numpy as np\n",
        "import seaborn as sns\n",
        "\n",
        "pd.options.display.max_columns = 110"
      ],
      "id": "S1ixihv-BlcC"
    },
    {
      "cell_type": "markdown",
      "metadata": {
        "id": "UsyJ8JM9BlcD"
      },
      "source": [
        "## Read Data"
      ],
      "id": "UsyJ8JM9BlcD"
    },
    {
      "cell_type": "code",
      "execution_count": 12,
      "metadata": {
        "id": "4H133LhUBlcE"
      },
      "outputs": [],
      "source": [
        "df_train = pd.read_csv('data_train.csv')\n",
        "df_test = pd.read_csv('data_test.csv')"
      ],
      "id": "4H133LhUBlcE"
    },
    {
      "cell_type": "code",
      "execution_count": 13,
      "metadata": {
        "colab": {
          "base_uri": "https://localhost:8080/",
          "height": 459
        },
        "id": "B_5n1NIgBlcE",
        "outputId": "f3e6a251-e124-4115-98a0-da69367e033c"
      },
      "outputs": [
        {
          "output_type": "display_data",
          "data": {
            "text/plain": [
              "  manufacturer_name transmission  color  odometer_value  year_produced  \\\n",
              "0        Volkswagen    automatic  black          130000           2016   \n",
              "1           Renault       manual  brown          149000           2012   \n",
              "2               Kia    automatic  brown          110000           2014   \n",
              "3              Opel    automatic  other          255100           2007   \n",
              "4             Mazda       manual   blue          650000           1999   \n",
              "\n",
              "  engine_fuel engine_type  engine_capacity  body_type  has_warranty ownership  \\\n",
              "0      diesel      diesel              1.6  universal         False     owned   \n",
              "1    gasoline    gasoline              1.6      sedan         False     owned   \n",
              "2    gasoline    gasoline              1.6  hatchback         False     owned   \n",
              "3    gasoline    gasoline              1.8  hatchback         False     owned   \n",
              "4    gasoline    gasoline              2.0      sedan         False     owned   \n",
              "\n",
              "  type_of_drive  is_exchangeable  number_of_photos  number_of_maintenance  \\\n",
              "0         front             True                17                     38   \n",
              "1         front            False                 9                      3   \n",
              "2         front            False                 5                     10   \n",
              "3         front            False                10                      4   \n",
              "4         front             True                 5                      7   \n",
              "\n",
              "   duration_listed  price_usd  \n",
              "0               67    13150.0  \n",
              "1              100     7500.0  \n",
              "2               91    12200.0  \n",
              "3               91     4950.0  \n",
              "4               62     3000.0  "
            ],
            "text/html": [
              "\n",
              "  <div id=\"df-503e9ade-cf8f-4ebf-92c6-c69a074fc1b0\">\n",
              "    <div class=\"colab-df-container\">\n",
              "      <div>\n",
              "<style scoped>\n",
              "    .dataframe tbody tr th:only-of-type {\n",
              "        vertical-align: middle;\n",
              "    }\n",
              "\n",
              "    .dataframe tbody tr th {\n",
              "        vertical-align: top;\n",
              "    }\n",
              "\n",
              "    .dataframe thead th {\n",
              "        text-align: right;\n",
              "    }\n",
              "</style>\n",
              "<table border=\"1\" class=\"dataframe\">\n",
              "  <thead>\n",
              "    <tr style=\"text-align: right;\">\n",
              "      <th></th>\n",
              "      <th>manufacturer_name</th>\n",
              "      <th>transmission</th>\n",
              "      <th>color</th>\n",
              "      <th>odometer_value</th>\n",
              "      <th>year_produced</th>\n",
              "      <th>engine_fuel</th>\n",
              "      <th>engine_type</th>\n",
              "      <th>engine_capacity</th>\n",
              "      <th>body_type</th>\n",
              "      <th>has_warranty</th>\n",
              "      <th>ownership</th>\n",
              "      <th>type_of_drive</th>\n",
              "      <th>is_exchangeable</th>\n",
              "      <th>number_of_photos</th>\n",
              "      <th>number_of_maintenance</th>\n",
              "      <th>duration_listed</th>\n",
              "      <th>price_usd</th>\n",
              "    </tr>\n",
              "  </thead>\n",
              "  <tbody>\n",
              "    <tr>\n",
              "      <th>0</th>\n",
              "      <td>Volkswagen</td>\n",
              "      <td>automatic</td>\n",
              "      <td>black</td>\n",
              "      <td>130000</td>\n",
              "      <td>2016</td>\n",
              "      <td>diesel</td>\n",
              "      <td>diesel</td>\n",
              "      <td>1.6</td>\n",
              "      <td>universal</td>\n",
              "      <td>False</td>\n",
              "      <td>owned</td>\n",
              "      <td>front</td>\n",
              "      <td>True</td>\n",
              "      <td>17</td>\n",
              "      <td>38</td>\n",
              "      <td>67</td>\n",
              "      <td>13150.0</td>\n",
              "    </tr>\n",
              "    <tr>\n",
              "      <th>1</th>\n",
              "      <td>Renault</td>\n",
              "      <td>manual</td>\n",
              "      <td>brown</td>\n",
              "      <td>149000</td>\n",
              "      <td>2012</td>\n",
              "      <td>gasoline</td>\n",
              "      <td>gasoline</td>\n",
              "      <td>1.6</td>\n",
              "      <td>sedan</td>\n",
              "      <td>False</td>\n",
              "      <td>owned</td>\n",
              "      <td>front</td>\n",
              "      <td>False</td>\n",
              "      <td>9</td>\n",
              "      <td>3</td>\n",
              "      <td>100</td>\n",
              "      <td>7500.0</td>\n",
              "    </tr>\n",
              "    <tr>\n",
              "      <th>2</th>\n",
              "      <td>Kia</td>\n",
              "      <td>automatic</td>\n",
              "      <td>brown</td>\n",
              "      <td>110000</td>\n",
              "      <td>2014</td>\n",
              "      <td>gasoline</td>\n",
              "      <td>gasoline</td>\n",
              "      <td>1.6</td>\n",
              "      <td>hatchback</td>\n",
              "      <td>False</td>\n",
              "      <td>owned</td>\n",
              "      <td>front</td>\n",
              "      <td>False</td>\n",
              "      <td>5</td>\n",
              "      <td>10</td>\n",
              "      <td>91</td>\n",
              "      <td>12200.0</td>\n",
              "    </tr>\n",
              "    <tr>\n",
              "      <th>3</th>\n",
              "      <td>Opel</td>\n",
              "      <td>automatic</td>\n",
              "      <td>other</td>\n",
              "      <td>255100</td>\n",
              "      <td>2007</td>\n",
              "      <td>gasoline</td>\n",
              "      <td>gasoline</td>\n",
              "      <td>1.8</td>\n",
              "      <td>hatchback</td>\n",
              "      <td>False</td>\n",
              "      <td>owned</td>\n",
              "      <td>front</td>\n",
              "      <td>False</td>\n",
              "      <td>10</td>\n",
              "      <td>4</td>\n",
              "      <td>91</td>\n",
              "      <td>4950.0</td>\n",
              "    </tr>\n",
              "    <tr>\n",
              "      <th>4</th>\n",
              "      <td>Mazda</td>\n",
              "      <td>manual</td>\n",
              "      <td>blue</td>\n",
              "      <td>650000</td>\n",
              "      <td>1999</td>\n",
              "      <td>gasoline</td>\n",
              "      <td>gasoline</td>\n",
              "      <td>2.0</td>\n",
              "      <td>sedan</td>\n",
              "      <td>False</td>\n",
              "      <td>owned</td>\n",
              "      <td>front</td>\n",
              "      <td>True</td>\n",
              "      <td>5</td>\n",
              "      <td>7</td>\n",
              "      <td>62</td>\n",
              "      <td>3000.0</td>\n",
              "    </tr>\n",
              "  </tbody>\n",
              "</table>\n",
              "</div>\n",
              "      <button class=\"colab-df-convert\" onclick=\"convertToInteractive('df-503e9ade-cf8f-4ebf-92c6-c69a074fc1b0')\"\n",
              "              title=\"Convert this dataframe to an interactive table.\"\n",
              "              style=\"display:none;\">\n",
              "        \n",
              "  <svg xmlns=\"http://www.w3.org/2000/svg\" height=\"24px\"viewBox=\"0 0 24 24\"\n",
              "       width=\"24px\">\n",
              "    <path d=\"M0 0h24v24H0V0z\" fill=\"none\"/>\n",
              "    <path d=\"M18.56 5.44l.94 2.06.94-2.06 2.06-.94-2.06-.94-.94-2.06-.94 2.06-2.06.94zm-11 1L8.5 8.5l.94-2.06 2.06-.94-2.06-.94L8.5 2.5l-.94 2.06-2.06.94zm10 10l.94 2.06.94-2.06 2.06-.94-2.06-.94-.94-2.06-.94 2.06-2.06.94z\"/><path d=\"M17.41 7.96l-1.37-1.37c-.4-.4-.92-.59-1.43-.59-.52 0-1.04.2-1.43.59L10.3 9.45l-7.72 7.72c-.78.78-.78 2.05 0 2.83L4 21.41c.39.39.9.59 1.41.59.51 0 1.02-.2 1.41-.59l7.78-7.78 2.81-2.81c.8-.78.8-2.07 0-2.86zM5.41 20L4 18.59l7.72-7.72 1.47 1.35L5.41 20z\"/>\n",
              "  </svg>\n",
              "      </button>\n",
              "      \n",
              "  <style>\n",
              "    .colab-df-container {\n",
              "      display:flex;\n",
              "      flex-wrap:wrap;\n",
              "      gap: 12px;\n",
              "    }\n",
              "\n",
              "    .colab-df-convert {\n",
              "      background-color: #E8F0FE;\n",
              "      border: none;\n",
              "      border-radius: 50%;\n",
              "      cursor: pointer;\n",
              "      display: none;\n",
              "      fill: #1967D2;\n",
              "      height: 32px;\n",
              "      padding: 0 0 0 0;\n",
              "      width: 32px;\n",
              "    }\n",
              "\n",
              "    .colab-df-convert:hover {\n",
              "      background-color: #E2EBFA;\n",
              "      box-shadow: 0px 1px 2px rgba(60, 64, 67, 0.3), 0px 1px 3px 1px rgba(60, 64, 67, 0.15);\n",
              "      fill: #174EA6;\n",
              "    }\n",
              "\n",
              "    [theme=dark] .colab-df-convert {\n",
              "      background-color: #3B4455;\n",
              "      fill: #D2E3FC;\n",
              "    }\n",
              "\n",
              "    [theme=dark] .colab-df-convert:hover {\n",
              "      background-color: #434B5C;\n",
              "      box-shadow: 0px 1px 3px 1px rgba(0, 0, 0, 0.15);\n",
              "      filter: drop-shadow(0px 1px 2px rgba(0, 0, 0, 0.3));\n",
              "      fill: #FFFFFF;\n",
              "    }\n",
              "  </style>\n",
              "\n",
              "      <script>\n",
              "        const buttonEl =\n",
              "          document.querySelector('#df-503e9ade-cf8f-4ebf-92c6-c69a074fc1b0 button.colab-df-convert');\n",
              "        buttonEl.style.display =\n",
              "          google.colab.kernel.accessAllowed ? 'block' : 'none';\n",
              "\n",
              "        async function convertToInteractive(key) {\n",
              "          const element = document.querySelector('#df-503e9ade-cf8f-4ebf-92c6-c69a074fc1b0');\n",
              "          const dataTable =\n",
              "            await google.colab.kernel.invokeFunction('convertToInteractive',\n",
              "                                                     [key], {});\n",
              "          if (!dataTable) return;\n",
              "\n",
              "          const docLinkHtml = 'Like what you see? Visit the ' +\n",
              "            '<a target=\"_blank\" href=https://colab.research.google.com/notebooks/data_table.ipynb>data table notebook</a>'\n",
              "            + ' to learn more about interactive tables.';\n",
              "          element.innerHTML = '';\n",
              "          dataTable['output_type'] = 'display_data';\n",
              "          await google.colab.output.renderOutput(dataTable, element);\n",
              "          const docLink = document.createElement('div');\n",
              "          docLink.innerHTML = docLinkHtml;\n",
              "          element.appendChild(docLink);\n",
              "        }\n",
              "      </script>\n",
              "    </div>\n",
              "  </div>\n",
              "  "
            ]
          },
          "metadata": {}
        },
        {
          "output_type": "display_data",
          "data": {
            "text/plain": [
              "  manufacturer_name transmission   color  odometer_value  year_produced  \\\n",
              "0               BMW    automatic   white          115000           2012   \n",
              "1     Mercedes-Benz       manual   other          500000           1999   \n",
              "2              Fiat       manual  silver          210000           2002   \n",
              "3        Mitsubishi    automatic  violet          294000           2000   \n",
              "4              Opel    automatic    blue          244000           1998   \n",
              "\n",
              "  engine_fuel engine_type  engine_capacity  body_type  has_warranty ownership  \\\n",
              "0    gasoline    gasoline              4.4      sedan         False     owned   \n",
              "1      diesel      diesel              2.2      sedan         False     owned   \n",
              "2    gasoline    gasoline              1.2  hatchback         False     owned   \n",
              "3      diesel      diesel              3.2        suv         False     owned   \n",
              "4    gasoline    gasoline              1.6      sedan         False     owned   \n",
              "\n",
              "  type_of_drive  is_exchangeable  number_of_photos  number_of_maintenance  \\\n",
              "0           all             True                32                    104   \n",
              "1          rear            False                 7                      9   \n",
              "2         front             True                16                      7   \n",
              "3           all             True                10                      2   \n",
              "4         front            False                 9                     10   \n",
              "\n",
              "   duration_listed  price_usd  \n",
              "0              146    20450.0  \n",
              "1              147     2600.0  \n",
              "2               27     2900.0  \n",
              "3               48     7500.0  \n",
              "4              116     2200.0  "
            ],
            "text/html": [
              "\n",
              "  <div id=\"df-4a9d1507-84be-400c-83d1-b087eb99eaf5\">\n",
              "    <div class=\"colab-df-container\">\n",
              "      <div>\n",
              "<style scoped>\n",
              "    .dataframe tbody tr th:only-of-type {\n",
              "        vertical-align: middle;\n",
              "    }\n",
              "\n",
              "    .dataframe tbody tr th {\n",
              "        vertical-align: top;\n",
              "    }\n",
              "\n",
              "    .dataframe thead th {\n",
              "        text-align: right;\n",
              "    }\n",
              "</style>\n",
              "<table border=\"1\" class=\"dataframe\">\n",
              "  <thead>\n",
              "    <tr style=\"text-align: right;\">\n",
              "      <th></th>\n",
              "      <th>manufacturer_name</th>\n",
              "      <th>transmission</th>\n",
              "      <th>color</th>\n",
              "      <th>odometer_value</th>\n",
              "      <th>year_produced</th>\n",
              "      <th>engine_fuel</th>\n",
              "      <th>engine_type</th>\n",
              "      <th>engine_capacity</th>\n",
              "      <th>body_type</th>\n",
              "      <th>has_warranty</th>\n",
              "      <th>ownership</th>\n",
              "      <th>type_of_drive</th>\n",
              "      <th>is_exchangeable</th>\n",
              "      <th>number_of_photos</th>\n",
              "      <th>number_of_maintenance</th>\n",
              "      <th>duration_listed</th>\n",
              "      <th>price_usd</th>\n",
              "    </tr>\n",
              "  </thead>\n",
              "  <tbody>\n",
              "    <tr>\n",
              "      <th>0</th>\n",
              "      <td>BMW</td>\n",
              "      <td>automatic</td>\n",
              "      <td>white</td>\n",
              "      <td>115000</td>\n",
              "      <td>2012</td>\n",
              "      <td>gasoline</td>\n",
              "      <td>gasoline</td>\n",
              "      <td>4.4</td>\n",
              "      <td>sedan</td>\n",
              "      <td>False</td>\n",
              "      <td>owned</td>\n",
              "      <td>all</td>\n",
              "      <td>True</td>\n",
              "      <td>32</td>\n",
              "      <td>104</td>\n",
              "      <td>146</td>\n",
              "      <td>20450.0</td>\n",
              "    </tr>\n",
              "    <tr>\n",
              "      <th>1</th>\n",
              "      <td>Mercedes-Benz</td>\n",
              "      <td>manual</td>\n",
              "      <td>other</td>\n",
              "      <td>500000</td>\n",
              "      <td>1999</td>\n",
              "      <td>diesel</td>\n",
              "      <td>diesel</td>\n",
              "      <td>2.2</td>\n",
              "      <td>sedan</td>\n",
              "      <td>False</td>\n",
              "      <td>owned</td>\n",
              "      <td>rear</td>\n",
              "      <td>False</td>\n",
              "      <td>7</td>\n",
              "      <td>9</td>\n",
              "      <td>147</td>\n",
              "      <td>2600.0</td>\n",
              "    </tr>\n",
              "    <tr>\n",
              "      <th>2</th>\n",
              "      <td>Fiat</td>\n",
              "      <td>manual</td>\n",
              "      <td>silver</td>\n",
              "      <td>210000</td>\n",
              "      <td>2002</td>\n",
              "      <td>gasoline</td>\n",
              "      <td>gasoline</td>\n",
              "      <td>1.2</td>\n",
              "      <td>hatchback</td>\n",
              "      <td>False</td>\n",
              "      <td>owned</td>\n",
              "      <td>front</td>\n",
              "      <td>True</td>\n",
              "      <td>16</td>\n",
              "      <td>7</td>\n",
              "      <td>27</td>\n",
              "      <td>2900.0</td>\n",
              "    </tr>\n",
              "    <tr>\n",
              "      <th>3</th>\n",
              "      <td>Mitsubishi</td>\n",
              "      <td>automatic</td>\n",
              "      <td>violet</td>\n",
              "      <td>294000</td>\n",
              "      <td>2000</td>\n",
              "      <td>diesel</td>\n",
              "      <td>diesel</td>\n",
              "      <td>3.2</td>\n",
              "      <td>suv</td>\n",
              "      <td>False</td>\n",
              "      <td>owned</td>\n",
              "      <td>all</td>\n",
              "      <td>True</td>\n",
              "      <td>10</td>\n",
              "      <td>2</td>\n",
              "      <td>48</td>\n",
              "      <td>7500.0</td>\n",
              "    </tr>\n",
              "    <tr>\n",
              "      <th>4</th>\n",
              "      <td>Opel</td>\n",
              "      <td>automatic</td>\n",
              "      <td>blue</td>\n",
              "      <td>244000</td>\n",
              "      <td>1998</td>\n",
              "      <td>gasoline</td>\n",
              "      <td>gasoline</td>\n",
              "      <td>1.6</td>\n",
              "      <td>sedan</td>\n",
              "      <td>False</td>\n",
              "      <td>owned</td>\n",
              "      <td>front</td>\n",
              "      <td>False</td>\n",
              "      <td>9</td>\n",
              "      <td>10</td>\n",
              "      <td>116</td>\n",
              "      <td>2200.0</td>\n",
              "    </tr>\n",
              "  </tbody>\n",
              "</table>\n",
              "</div>\n",
              "      <button class=\"colab-df-convert\" onclick=\"convertToInteractive('df-4a9d1507-84be-400c-83d1-b087eb99eaf5')\"\n",
              "              title=\"Convert this dataframe to an interactive table.\"\n",
              "              style=\"display:none;\">\n",
              "        \n",
              "  <svg xmlns=\"http://www.w3.org/2000/svg\" height=\"24px\"viewBox=\"0 0 24 24\"\n",
              "       width=\"24px\">\n",
              "    <path d=\"M0 0h24v24H0V0z\" fill=\"none\"/>\n",
              "    <path d=\"M18.56 5.44l.94 2.06.94-2.06 2.06-.94-2.06-.94-.94-2.06-.94 2.06-2.06.94zm-11 1L8.5 8.5l.94-2.06 2.06-.94-2.06-.94L8.5 2.5l-.94 2.06-2.06.94zm10 10l.94 2.06.94-2.06 2.06-.94-2.06-.94-.94-2.06-.94 2.06-2.06.94z\"/><path d=\"M17.41 7.96l-1.37-1.37c-.4-.4-.92-.59-1.43-.59-.52 0-1.04.2-1.43.59L10.3 9.45l-7.72 7.72c-.78.78-.78 2.05 0 2.83L4 21.41c.39.39.9.59 1.41.59.51 0 1.02-.2 1.41-.59l7.78-7.78 2.81-2.81c.8-.78.8-2.07 0-2.86zM5.41 20L4 18.59l7.72-7.72 1.47 1.35L5.41 20z\"/>\n",
              "  </svg>\n",
              "      </button>\n",
              "      \n",
              "  <style>\n",
              "    .colab-df-container {\n",
              "      display:flex;\n",
              "      flex-wrap:wrap;\n",
              "      gap: 12px;\n",
              "    }\n",
              "\n",
              "    .colab-df-convert {\n",
              "      background-color: #E8F0FE;\n",
              "      border: none;\n",
              "      border-radius: 50%;\n",
              "      cursor: pointer;\n",
              "      display: none;\n",
              "      fill: #1967D2;\n",
              "      height: 32px;\n",
              "      padding: 0 0 0 0;\n",
              "      width: 32px;\n",
              "    }\n",
              "\n",
              "    .colab-df-convert:hover {\n",
              "      background-color: #E2EBFA;\n",
              "      box-shadow: 0px 1px 2px rgba(60, 64, 67, 0.3), 0px 1px 3px 1px rgba(60, 64, 67, 0.15);\n",
              "      fill: #174EA6;\n",
              "    }\n",
              "\n",
              "    [theme=dark] .colab-df-convert {\n",
              "      background-color: #3B4455;\n",
              "      fill: #D2E3FC;\n",
              "    }\n",
              "\n",
              "    [theme=dark] .colab-df-convert:hover {\n",
              "      background-color: #434B5C;\n",
              "      box-shadow: 0px 1px 3px 1px rgba(0, 0, 0, 0.15);\n",
              "      filter: drop-shadow(0px 1px 2px rgba(0, 0, 0, 0.3));\n",
              "      fill: #FFFFFF;\n",
              "    }\n",
              "  </style>\n",
              "\n",
              "      <script>\n",
              "        const buttonEl =\n",
              "          document.querySelector('#df-4a9d1507-84be-400c-83d1-b087eb99eaf5 button.colab-df-convert');\n",
              "        buttonEl.style.display =\n",
              "          google.colab.kernel.accessAllowed ? 'block' : 'none';\n",
              "\n",
              "        async function convertToInteractive(key) {\n",
              "          const element = document.querySelector('#df-4a9d1507-84be-400c-83d1-b087eb99eaf5');\n",
              "          const dataTable =\n",
              "            await google.colab.kernel.invokeFunction('convertToInteractive',\n",
              "                                                     [key], {});\n",
              "          if (!dataTable) return;\n",
              "\n",
              "          const docLinkHtml = 'Like what you see? Visit the ' +\n",
              "            '<a target=\"_blank\" href=https://colab.research.google.com/notebooks/data_table.ipynb>data table notebook</a>'\n",
              "            + ' to learn more about interactive tables.';\n",
              "          element.innerHTML = '';\n",
              "          dataTable['output_type'] = 'display_data';\n",
              "          await google.colab.output.renderOutput(dataTable, element);\n",
              "          const docLink = document.createElement('div');\n",
              "          docLink.innerHTML = docLinkHtml;\n",
              "          element.appendChild(docLink);\n",
              "        }\n",
              "      </script>\n",
              "    </div>\n",
              "  </div>\n",
              "  "
            ]
          },
          "metadata": {}
        }
      ],
      "source": [
        "display(df_train.head())\n",
        "display(df_test.head())"
      ],
      "id": "B_5n1NIgBlcE"
    },
    {
      "cell_type": "markdown",
      "metadata": {
        "id": "6ntBrLEgBlcF"
      },
      "source": [
        "--------------"
      ],
      "id": "6ntBrLEgBlcF"
    },
    {
      "cell_type": "markdown",
      "source": [
        "## **Train On Training Dataset**"
      ],
      "metadata": {
        "id": "XEWpLqQF9133"
      },
      "id": "XEWpLqQF9133"
    },
    {
      "cell_type": "markdown",
      "source": [
        "Specify X and Y value from Dataframe"
      ],
      "metadata": {
        "id": "P6_mQcjvGXgz"
      },
      "id": "P6_mQcjvGXgz"
    },
    {
      "cell_type": "code",
      "source": [
        "X=df_train.iloc[:, :-1].values\n",
        "Y=df_train['price_usd'].values\n",
        "print(X)\n",
        "print(Y)\n"
      ],
      "metadata": {
        "colab": {
          "base_uri": "https://localhost:8080/"
        },
        "id": "1d6m_J0dCxG0",
        "outputId": "9b57587b-e904-48e3-b677-15953a085bdf"
      },
      "id": "1d6m_J0dCxG0",
      "execution_count": 32,
      "outputs": [
        {
          "output_type": "stream",
          "name": "stdout",
          "text": [
            "[['Volkswagen' 'automatic' 'black' ... 17 38 67]\n",
            " ['Renault' 'manual' 'brown' ... 9 3 100]\n",
            " ['Kia' 'automatic' 'brown' ... 5 10 91]\n",
            " ...\n",
            " ['Fiat' 'manual' 'red' ... 7 13 108]\n",
            " ['BMW' 'automatic' 'grey' ... 10 26 64]\n",
            " ['Volvo' 'automatic' 'other' ... 6 2 58]]\n",
            "[13150.  7500. 12200. ...  2000.  5080.  6800.]\n"
          ]
        }
      ]
    },
    {
      "cell_type": "markdown",
      "source": [
        "Encoding Categorical Data"
      ],
      "metadata": {
        "id": "qMpYk7fYRmMN"
      },
      "id": "qMpYk7fYRmMN"
    },
    {
      "cell_type": "code",
      "source": [
        "from sklearn.compose import ColumnTransformer\n",
        "from sklearn.preprocessing import OneHotEncoder, LabelEncoder\n",
        "\n",
        "colTransformer = ColumnTransformer(\n",
        "    transformers=[\n",
        "        ('encoder', OneHotEncoder(), ['manufacturer_name', 'transmission','color',\n",
        "                                      'engine_fuel', 'engine_type', 'body_type',\n",
        "                                      'has_warranty', 'ownership', 'type_of_drive',\n",
        "                                      'is_exchangeable'])], remainder='passthrough'\n",
        "    )\n",
        "\n",
        "X_train=colTransformer.fit_transform(df_train)\n",
        "print(X_train)\n",
        "\n",
        "le=LabelEncoder()\n",
        "Y_train=le.fit_transform(Y)\n",
        "print(Y_train)"
      ],
      "metadata": {
        "colab": {
          "base_uri": "https://localhost:8080/"
        },
        "id": "VBK_ciwraDBu",
        "outputId": "7a82e150-39e8-4ac0-b77e-5b8dd31ed0f1"
      },
      "id": "VBK_ciwraDBu",
      "execution_count": 33,
      "outputs": [
        {
          "output_type": "stream",
          "name": "stdout",
          "text": [
            "  (0, 48)\t1.0\n",
            "  (0, 55)\t1.0\n",
            "  (0, 57)\t1.0\n",
            "  (0, 69)\t1.0\n",
            "  (0, 75)\t1.0\n",
            "  (0, 88)\t1.0\n",
            "  (0, 90)\t1.0\n",
            "  (0, 94)\t1.0\n",
            "  (0, 96)\t1.0\n",
            "  (0, 99)\t1.0\n",
            "  (0, 100)\t130000.0\n",
            "  (0, 101)\t2016.0\n",
            "  (0, 102)\t1.6\n",
            "  (0, 103)\t17.0\n",
            "  (0, 104)\t38.0\n",
            "  (0, 105)\t67.0\n",
            "  (0, 106)\t13150.0\n",
            "  (1, 39)\t1.0\n",
            "  (1, 56)\t1.0\n",
            "  (1, 59)\t1.0\n",
            "  (1, 72)\t1.0\n",
            "  (1, 77)\t1.0\n",
            "  (1, 86)\t1.0\n",
            "  (1, 90)\t1.0\n",
            "  (1, 94)\t1.0\n",
            "  :\t:\n",
            "  (49998, 99)\t1.0\n",
            "  (49998, 100)\t615000.0\n",
            "  (49998, 101)\t1998.0\n",
            "  (49998, 102)\t2.5\n",
            "  (49998, 103)\t10.0\n",
            "  (49998, 104)\t26.0\n",
            "  (49998, 105)\t64.0\n",
            "  (49998, 106)\t5080.0\n",
            "  (49999, 49)\t1.0\n",
            "  (49999, 55)\t1.0\n",
            "  (49999, 63)\t1.0\n",
            "  (49999, 69)\t1.0\n",
            "  (49999, 75)\t1.0\n",
            "  (49999, 86)\t1.0\n",
            "  (49999, 90)\t1.0\n",
            "  (49999, 94)\t1.0\n",
            "  (49999, 96)\t1.0\n",
            "  (49999, 99)\t1.0\n",
            "  (49999, 100)\t485000.0\n",
            "  (49999, 101)\t2002.0\n",
            "  (49999, 102)\t2.4\n",
            "  (49999, 103)\t6.0\n",
            "  (49999, 104)\t2.0\n",
            "  (49999, 105)\t58.0\n",
            "  (49999, 106)\t6800.0\n",
            "[1586 1185 1527 ...  540  964 1123]\n"
          ]
        }
      ]
    },
    {
      "cell_type": "markdown",
      "source": [
        "Traing XGBOOST on the Training Set of the 'train.csv' Dataset"
      ],
      "metadata": {
        "id": "vKGSyw3rKoC1"
      },
      "id": "vKGSyw3rKoC1"
    },
    {
      "cell_type": "code",
      "source": [
        "from xgboost import XGBRFRegressor\n",
        "regressor=XGBRFRegressor()\n",
        "regressor.fit(X_train, Y_train)\n"
      ],
      "metadata": {
        "colab": {
          "base_uri": "https://localhost:8080/",
          "height": 251
        },
        "id": "tZ0PTmqbLK4t",
        "outputId": "901c247e-6708-4050-c5a1-02d1b7489306"
      },
      "id": "tZ0PTmqbLK4t",
      "execution_count": 34,
      "outputs": [
        {
          "output_type": "execute_result",
          "data": {
            "text/plain": [
              "XGBRFRegressor(base_score=None, booster=None, callbacks=None,\n",
              "               colsample_bylevel=None, colsample_bytree=None,\n",
              "               early_stopping_rounds=None, enable_categorical=False,\n",
              "               eval_metric=None, feature_types=None, gamma=None, gpu_id=None,\n",
              "               grow_policy=None, importance_type=None,\n",
              "               interaction_constraints=None, max_bin=None,\n",
              "               max_cat_threshold=None, max_cat_to_onehot=None,\n",
              "               max_delta_step=None, max_depth=None, max_leaves=None,\n",
              "               min_child_weight=None, missing=nan, monotone_constraints=None,\n",
              "               n_estimators=100, n_jobs=None, num_parallel_tree=None,\n",
              "               objective='reg:squarederror', predictor=None, random_state=None,\n",
              "               reg_alpha=None, ...)"
            ],
            "text/html": [
              "<style>#sk-container-id-2 {color: black;background-color: white;}#sk-container-id-2 pre{padding: 0;}#sk-container-id-2 div.sk-toggleable {background-color: white;}#sk-container-id-2 label.sk-toggleable__label {cursor: pointer;display: block;width: 100%;margin-bottom: 0;padding: 0.3em;box-sizing: border-box;text-align: center;}#sk-container-id-2 label.sk-toggleable__label-arrow:before {content: \"▸\";float: left;margin-right: 0.25em;color: #696969;}#sk-container-id-2 label.sk-toggleable__label-arrow:hover:before {color: black;}#sk-container-id-2 div.sk-estimator:hover label.sk-toggleable__label-arrow:before {color: black;}#sk-container-id-2 div.sk-toggleable__content {max-height: 0;max-width: 0;overflow: hidden;text-align: left;background-color: #f0f8ff;}#sk-container-id-2 div.sk-toggleable__content pre {margin: 0.2em;color: black;border-radius: 0.25em;background-color: #f0f8ff;}#sk-container-id-2 input.sk-toggleable__control:checked~div.sk-toggleable__content {max-height: 200px;max-width: 100%;overflow: auto;}#sk-container-id-2 input.sk-toggleable__control:checked~label.sk-toggleable__label-arrow:before {content: \"▾\";}#sk-container-id-2 div.sk-estimator input.sk-toggleable__control:checked~label.sk-toggleable__label {background-color: #d4ebff;}#sk-container-id-2 div.sk-label input.sk-toggleable__control:checked~label.sk-toggleable__label {background-color: #d4ebff;}#sk-container-id-2 input.sk-hidden--visually {border: 0;clip: rect(1px 1px 1px 1px);clip: rect(1px, 1px, 1px, 1px);height: 1px;margin: -1px;overflow: hidden;padding: 0;position: absolute;width: 1px;}#sk-container-id-2 div.sk-estimator {font-family: monospace;background-color: #f0f8ff;border: 1px dotted black;border-radius: 0.25em;box-sizing: border-box;margin-bottom: 0.5em;}#sk-container-id-2 div.sk-estimator:hover {background-color: #d4ebff;}#sk-container-id-2 div.sk-parallel-item::after {content: \"\";width: 100%;border-bottom: 1px solid gray;flex-grow: 1;}#sk-container-id-2 div.sk-label:hover label.sk-toggleable__label {background-color: #d4ebff;}#sk-container-id-2 div.sk-serial::before {content: \"\";position: absolute;border-left: 1px solid gray;box-sizing: border-box;top: 0;bottom: 0;left: 50%;z-index: 0;}#sk-container-id-2 div.sk-serial {display: flex;flex-direction: column;align-items: center;background-color: white;padding-right: 0.2em;padding-left: 0.2em;position: relative;}#sk-container-id-2 div.sk-item {position: relative;z-index: 1;}#sk-container-id-2 div.sk-parallel {display: flex;align-items: stretch;justify-content: center;background-color: white;position: relative;}#sk-container-id-2 div.sk-item::before, #sk-container-id-2 div.sk-parallel-item::before {content: \"\";position: absolute;border-left: 1px solid gray;box-sizing: border-box;top: 0;bottom: 0;left: 50%;z-index: -1;}#sk-container-id-2 div.sk-parallel-item {display: flex;flex-direction: column;z-index: 1;position: relative;background-color: white;}#sk-container-id-2 div.sk-parallel-item:first-child::after {align-self: flex-end;width: 50%;}#sk-container-id-2 div.sk-parallel-item:last-child::after {align-self: flex-start;width: 50%;}#sk-container-id-2 div.sk-parallel-item:only-child::after {width: 0;}#sk-container-id-2 div.sk-dashed-wrapped {border: 1px dashed gray;margin: 0 0.4em 0.5em 0.4em;box-sizing: border-box;padding-bottom: 0.4em;background-color: white;}#sk-container-id-2 div.sk-label label {font-family: monospace;font-weight: bold;display: inline-block;line-height: 1.2em;}#sk-container-id-2 div.sk-label-container {text-align: center;}#sk-container-id-2 div.sk-container {/* jupyter's `normalize.less` sets `[hidden] { display: none; }` but bootstrap.min.css set `[hidden] { display: none !important; }` so we also need the `!important` here to be able to override the default hidden behavior on the sphinx rendered scikit-learn.org. See: https://github.com/scikit-learn/scikit-learn/issues/21755 */display: inline-block !important;position: relative;}#sk-container-id-2 div.sk-text-repr-fallback {display: none;}</style><div id=\"sk-container-id-2\" class=\"sk-top-container\"><div class=\"sk-text-repr-fallback\"><pre>XGBRFRegressor(base_score=None, booster=None, callbacks=None,\n",
              "               colsample_bylevel=None, colsample_bytree=None,\n",
              "               early_stopping_rounds=None, enable_categorical=False,\n",
              "               eval_metric=None, feature_types=None, gamma=None, gpu_id=None,\n",
              "               grow_policy=None, importance_type=None,\n",
              "               interaction_constraints=None, max_bin=None,\n",
              "               max_cat_threshold=None, max_cat_to_onehot=None,\n",
              "               max_delta_step=None, max_depth=None, max_leaves=None,\n",
              "               min_child_weight=None, missing=nan, monotone_constraints=None,\n",
              "               n_estimators=100, n_jobs=None, num_parallel_tree=None,\n",
              "               objective=&#x27;reg:squarederror&#x27;, predictor=None, random_state=None,\n",
              "               reg_alpha=None, ...)</pre><b>In a Jupyter environment, please rerun this cell to show the HTML representation or trust the notebook. <br />On GitHub, the HTML representation is unable to render, please try loading this page with nbviewer.org.</b></div><div class=\"sk-container\" hidden><div class=\"sk-item\"><div class=\"sk-estimator sk-toggleable\"><input class=\"sk-toggleable__control sk-hidden--visually\" id=\"sk-estimator-id-2\" type=\"checkbox\" checked><label for=\"sk-estimator-id-2\" class=\"sk-toggleable__label sk-toggleable__label-arrow\">XGBRFRegressor</label><div class=\"sk-toggleable__content\"><pre>XGBRFRegressor(base_score=None, booster=None, callbacks=None,\n",
              "               colsample_bylevel=None, colsample_bytree=None,\n",
              "               early_stopping_rounds=None, enable_categorical=False,\n",
              "               eval_metric=None, feature_types=None, gamma=None, gpu_id=None,\n",
              "               grow_policy=None, importance_type=None,\n",
              "               interaction_constraints=None, max_bin=None,\n",
              "               max_cat_threshold=None, max_cat_to_onehot=None,\n",
              "               max_delta_step=None, max_depth=None, max_leaves=None,\n",
              "               min_child_weight=None, missing=nan, monotone_constraints=None,\n",
              "               n_estimators=100, n_jobs=None, num_parallel_tree=None,\n",
              "               objective=&#x27;reg:squarederror&#x27;, predictor=None, random_state=None,\n",
              "               reg_alpha=None, ...)</pre></div></div></div></div></div>"
            ]
          },
          "metadata": {},
          "execution_count": 34
        }
      ]
    },
    {
      "cell_type": "markdown",
      "source": [
        "Visualizing Train Prices on Training Set\n"
      ],
      "metadata": {
        "id": "DaHdIch_gW7p"
      },
      "id": "DaHdIch_gW7p"
    },
    {
      "cell_type": "code",
      "source": [
        "from matplotlib import pyplot as plt\n",
        "\n",
        "trainSet=sns.histplot(Y_train,element='poly', color='#DAF7A6', edgecolor='#BB8FCE')\n",
        "plt.title('Train Price of Used Car')\n",
        "plt.ylabel('Used Prices')\n",
        "plt.show()\n",
        "\n",
        "trainSet=sns.histplot(Y_train, color='salmon', edgecolor='red')\n",
        "plt.title('Train Price of Used Car')\n",
        "plt.ylabel('Used Prices')\n",
        "plt.show()"
      ],
      "metadata": {
        "colab": {
          "base_uri": "https://localhost:8080/",
          "height": 887
        },
        "id": "9YjXV3x9gfmn",
        "outputId": "dd908cac-b999-4047-99b9-24f56c6ce723"
      },
      "id": "9YjXV3x9gfmn",
      "execution_count": 35,
      "outputs": [
        {
          "output_type": "display_data",
          "data": {
            "text/plain": [
              "<Figure size 640x480 with 1 Axes>"
            ],
            "image/png": "[encoded data removed]"
          },
          "metadata": {}
        },
        {
          "output_type": "display_data",
          "data": {
            "text/plain": [
              "<Figure size 640x480 with 1 Axes>"
            ],
            "image/png": "[encoded data removed]"
          },
          "metadata": {}
        }
      ]
    },
    {
      "cell_type": "markdown",
      "source": [
        "# **Test, Evaluate Performance and Predict Future Price**"
      ],
      "metadata": {
        "id": "ZrYVndHs-oE3"
      },
      "id": "ZrYVndHs-oE3"
    },
    {
      "cell_type": "markdown",
      "source": [
        "Specify the X and Y values f Testing Dataset"
      ],
      "metadata": {
        "id": "1ZcaELr8_tVA"
      },
      "id": "1ZcaELr8_tVA"
    },
    {
      "cell_type": "code",
      "source": [
        "Xt=df_test.iloc[:, :-1].values\n",
        "Yt=df_test['price_usd'].values\n",
        "print(Xt)\n",
        "print(Yt)"
      ],
      "metadata": {
        "colab": {
          "base_uri": "https://localhost:8080/"
        },
        "id": "oEeBCR7JQBXG",
        "outputId": "038beb3f-4af9-4c73-80f1-f47388e0f3ed"
      },
      "id": "oEeBCR7JQBXG",
      "execution_count": 36,
      "outputs": [
        {
          "output_type": "stream",
          "name": "stdout",
          "text": [
            "[['BMW' 'automatic' 'white' ... 32 104 146]\n",
            " ['Mercedes-Benz' 'manual' 'other' ... 7 9 147]\n",
            " ['Fiat' 'manual' 'silver' ... 16 7 27]\n",
            " ...\n",
            " ['Volkswagen' 'manual' 'white' ... 6 1 35]\n",
            " ['Audi' 'manual' 'grey' ... 7 28 115]\n",
            " ['Volkswagen' 'manual' 'red' ... 9 2 15]]\n",
            "[20450.  2600.  2900. ...  1100.  6300.  1550.]\n"
          ]
        }
      ]
    },
    {
      "cell_type": "markdown",
      "source": [
        "Encoding Categorical Data to Transformation on Testing Dataset"
      ],
      "metadata": {
        "id": "lk6uRZdrLKt-"
      },
      "id": "lk6uRZdrLKt-"
    },
    {
      "cell_type": "code",
      "source": [
        "X_test= colTransformer.transform(df_test)\n",
        "print(X_test)\n",
        "\n",
        "\n",
        "Y_test=le.fit_transform(Yt)\n",
        "print(Y_test)"
      ],
      "metadata": {
        "colab": {
          "base_uri": "https://localhost:8080/"
        },
        "id": "mSHRqvKKAqFK",
        "outputId": "8f00067e-7eaa-4753-a114-7c7f3eddc44e"
      },
      "id": "mSHRqvKKAqFK",
      "execution_count": 37,
      "outputs": [
        {
          "output_type": "stream",
          "name": "stdout",
          "text": [
            "  (0, 3)\t1.0\n",
            "  (0, 55)\t1.0\n",
            "  (0, 67)\t1.0\n",
            "  (0, 72)\t1.0\n",
            "  (0, 77)\t1.0\n",
            "  (0, 86)\t1.0\n",
            "  (0, 90)\t1.0\n",
            "  (0, 94)\t1.0\n",
            "  (0, 95)\t1.0\n",
            "  (0, 99)\t1.0\n",
            "  (0, 100)\t115000.0\n",
            "  (0, 101)\t2012.0\n",
            "  (0, 102)\t4.4\n",
            "  (0, 103)\t32.0\n",
            "  (0, 104)\t104.0\n",
            "  (0, 105)\t146.0\n",
            "  (0, 106)\t20450.0\n",
            "  (1, 31)\t1.0\n",
            "  (1, 56)\t1.0\n",
            "  (1, 63)\t1.0\n",
            "  (1, 69)\t1.0\n",
            "  (1, 75)\t1.0\n",
            "  (1, 86)\t1.0\n",
            "  (1, 90)\t1.0\n",
            "  (1, 94)\t1.0\n",
            "  :\t:\n",
            "  (26998, 98)\t1.0\n",
            "  (26998, 100)\t275000.0\n",
            "  (26998, 101)\t2006.0\n",
            "  (26998, 102)\t2.0\n",
            "  (26998, 103)\t7.0\n",
            "  (26998, 104)\t28.0\n",
            "  (26998, 105)\t115.0\n",
            "  (26998, 106)\t6300.0\n",
            "  (26999, 48)\t1.0\n",
            "  (26999, 56)\t1.0\n",
            "  (26999, 64)\t1.0\n",
            "  (26999, 69)\t1.0\n",
            "  (26999, 75)\t1.0\n",
            "  (26999, 80)\t1.0\n",
            "  (26999, 90)\t1.0\n",
            "  (26999, 94)\t1.0\n",
            "  (26999, 96)\t1.0\n",
            "  (26999, 98)\t1.0\n",
            "  (26999, 100)\t500000.0\n",
            "  (26999, 101)\t1991.0\n",
            "  (26999, 102)\t1.9\n",
            "  (26999, 103)\t9.0\n",
            "  (26999, 104)\t2.0\n",
            "  (26999, 105)\t15.0\n",
            "  (26999, 106)\t1550.0\n",
            "[1644  507  553 ...  278  881  361]\n"
          ]
        }
      ]
    },
    {
      "cell_type": "markdown",
      "source": [
        "Test the Performance and Predic Future Price of Used Car using XGBOOST Model"
      ],
      "metadata": {
        "id": "eykTsPHsMgc2"
      },
      "id": "eykTsPHsMgc2"
    },
    {
      "cell_type": "code",
      "source": [
        "# Predict the futre prices\n",
        "y_predict=regressor.predict(X_test)\n",
        "print(y_predict)"
      ],
      "metadata": {
        "colab": {
          "base_uri": "https://localhost:8080/"
        },
        "id": "QBJFYYJSCpAb",
        "outputId": "3ce7b965-3186-444f-8a4c-bee50f9dbf57"
      },
      "id": "QBJFYYJSCpAb",
      "execution_count": 38,
      "outputs": [
        {
          "output_type": "stream",
          "name": "stdout",
          "text": [
            "[1986.5675   623.9203   694.45056 ...  365.58905 1073.0422   445.214  ]\n"
          ]
        }
      ]
    },
    {
      "cell_type": "markdown",
      "source": [
        "Mean Absolute Error to evaluate the performance between Test set of prices and predic pricces\n"
      ],
      "metadata": {
        "id": "kf-wFvumM3m-"
      },
      "id": "kf-wFvumM3m-"
    },
    {
      "cell_type": "code",
      "source": [
        "from sklearn.metrics import mean_absolute_error, mean_squared_error, r2_score\n",
        "\n",
        "errors_Predication = mean_absolute_error(Y_test, y_predict)\n",
        "mean_Squared_Error_Prediction = mean_squared_error(Y_test, y_predict)\n",
        "\n",
        "#To compare how the prediction prices match the actual prices by calculating the r2_squared\n",
        "r2_Acurracy = r2_score(Y_test, y_predict)\n",
        "\n",
        "print('Mean Absolute Error: ', errors_Predication)\n",
        "print('Mean Squared Error: ', mean_Squared_Error_Prediction)\n",
        "\n",
        "print('r2-Squared: ', r2_Acurracy)\n"
      ],
      "metadata": {
        "colab": {
          "base_uri": "https://localhost:8080/"
        },
        "id": "m6gblgoDMBJo",
        "outputId": "c9478caf-aadf-419f-f727-e2cee38e46d9"
      },
      "id": "m6gblgoDMBJo",
      "execution_count": 39,
      "outputs": [
        {
          "output_type": "stream",
          "name": "stdout",
          "text": [
            "Mean Absolute Error:  177.36908049548114\n",
            "Mean Squared Error:  38504.05470625591\n",
            "r2-Squared:  0.7873829278866098\n"
          ]
        }
      ]
    },
    {
      "cell_type": "markdown",
      "source": [
        "K-Fold Cross Validation"
      ],
      "metadata": {
        "id": "W1vpIsOiTy8I"
      },
      "id": "W1vpIsOiTy8I"
    },
    {
      "cell_type": "code",
      "source": [
        "from sklearn.model_selection import cross_val_score\n",
        "accuracies= cross_val_score(estimator=regressor, X=X_test, y=Y_test, cv=10)\n",
        "print('Accuracy:', accuracies)\n",
        "print('Accuracy: {:.2f}%'.format(accuracies.mean()*100))\n"
      ],
      "metadata": {
        "colab": {
          "base_uri": "https://localhost:8080/"
        },
        "id": "q3Ghh5tnOMcX",
        "outputId": "23752058-b897-47c2-b5cf-9ec1b2f9e945"
      },
      "id": "q3Ghh5tnOMcX",
      "execution_count": 40,
      "outputs": [
        {
          "output_type": "stream",
          "name": "stdout",
          "text": [
            "Accuracy: [0.99968831 0.99964464 0.99970815 0.99968969 0.99963826 0.99966346\n",
            " 0.9996788  0.99967811 0.99963263 0.99960191]\n",
            "Accuracy: 99.97%\n"
          ]
        }
      ]
    },
    {
      "cell_type": "markdown",
      "source": [
        "Visualization Test on Testing Dataset"
      ],
      "metadata": {
        "id": "DVhF4Yw9uqWj"
      },
      "id": "DVhF4Yw9uqWj"
    },
    {
      "cell_type": "code",
      "source": [
        "from matplotlib import pyplot as plt\n",
        "\n",
        "trainSet=sns.histplot(Y_test,element='poly', color='#9e662e', edgecolor='#fcc700')\n",
        "plt.title('Test Price of Used Car')\n",
        "plt.ylabel('Used Prices')\n",
        "plt.show()\n",
        "\n",
        "trainSet=sns.histplot(Y_test, color='#668099', edgecolor='black')\n",
        "plt.title('Test Price of Used Car')\n",
        "plt.ylabel('Used Prices')\n",
        "plt.show()\n",
        "\n"
      ],
      "metadata": {
        "colab": {
          "base_uri": "https://localhost:8080/",
          "height": 887
        },
        "id": "Lpv-6IamvTcW",
        "outputId": "472512d1-d0ae-4365-e2ab-8ae3d42f0f5e"
      },
      "id": "Lpv-6IamvTcW",
      "execution_count": 41,
      "outputs": [
        {
          "output_type": "display_data",
          "data": {
            "text/plain": [
              "<Figure size 640x480 with 1 Axes>"
            ],
            "image/png": "[encoded data removed]"
          },
          "metadata": {}
        },
        {
          "output_type": "display_data",
          "data": {
            "text/plain": [
              "<Figure size 640x480 with 1 Axes>"
            ],
            "image/png": "[encoded data removed]"
          },
          "metadata": {}
        }
      ]
    },
    {
      "cell_type": "markdown",
      "source": [
        "Visualizing Predict Price of Car Used"
      ],
      "metadata": {
        "id": "J62BfF6sHbWv"
      },
      "id": "J62BfF6sHbWv"
    },
    {
      "cell_type": "code",
      "source": [
        "trainSet=sns.histplot(y_predict,element='poly', color='#E6E6FA', edgecolor='blue')\n",
        "plt.title('Predict Price of Used Car')\n",
        "plt.ylabel('Used Prices')\n",
        "plt.show()\n",
        "\n",
        "trainSet=sns.histplot(y_predict, color='#FFE4B5', edgecolor='#BDB76B')\n",
        "plt.title('Predict Price of Used Car')\n",
        "plt.ylabel('Used Prices')\n",
        "plt.show()"
      ],
      "metadata": {
        "colab": {
          "base_uri": "https://localhost:8080/",
          "height": 887
        },
        "id": "1SAHKZCHHc85",
        "outputId": "ea073484-3bd4-4150-f489-bcc3cd278cdb"
      },
      "id": "1SAHKZCHHc85",
      "execution_count": 42,
      "outputs": [
        {
          "output_type": "display_data",
          "data": {
            "text/plain": [
              "<Figure size 640x480 with 1 Axes>"
            ],
            "image/png": "[encoded data removed]"
          },
          "metadata": {}
        },
        {
          "output_type": "display_data",
          "data": {
            "text/plain": [
              "<Figure size 640x480 with 1 Axes>"
            ],
            "image/png": "[encoded data removed]"
          },
          "metadata": {}
        }
      ]
    }
  ],
  "metadata": {
    "kernelspec": {
      "display_name": "Python 3",
      "language": "python",
      "name": "python3"
    },
    "language_info": {
      "codemirror_mode": {
        "name": "ipython",
        "version": 3
      },
      "file_extension": ".py",
      "mimetype": "text/x-python",
      "name": "python",
      "nbconvert_exporter": "python",
      "pygments_lexer": "ipython3",
      "version": "3.8.5"
    },
    "colab": {
      "provenance": [],
      "toc_visible": true
    }
  },
  "nbformat": 4,
  "nbformat_minor": 5
}